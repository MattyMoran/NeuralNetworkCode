{
 "cells": [
  {
   "cell_type": "markdown",
   "metadata": {},
   "source": [
    "### Multi-layer Perceptron Exercise\n",
    "#### In this exercise, we will implement the multi-perceptron algorithm with two hidden layers. \n",
    "#### The implementation of the MLP algorithm will be in the mlp.py file but you will test your implementation \n",
    "#### in this notebook. In this exercise we will use the MNIST dataset that we used for week 2 lab (KNN). "
   ]
  },
  {
   "cell_type": "code",
   "execution_count": 1,
   "metadata": {},
   "outputs": [],
   "source": [
    "# importing the MLP algorithm from mlp.py file \n",
    "# where you will implement the MLP algorithm \n",
    "from mlp import MLP \n",
    "import numpy as np\n",
    "\n",
    "# This is to reload all changed modules every time before executing a new line.\n",
    "# https://stackoverflow.com/questions/5364050/reloading-submodules-in-ipython\n",
    "%load_ext autoreload\n",
    "%autoreload 2"
   ]
  },
  {
   "cell_type": "code",
   "execution_count": 2,
   "metadata": {},
   "outputs": [
    {
     "name": "stdout",
     "output_type": "stream",
     "text": [
      "(50000, 784) (10000, 784) (10000, 784)\n"
     ]
    }
   ],
   "source": [
    "# loading the MNIST datatset\n",
    "import pickle, gzip\n",
    "\n",
    "f = gzip.open('mnist.pkl.gz','rb')\n",
    "tset, vset, teset = pickle.load(f, encoding='latin1')\n",
    "print(tset[0].shape, vset[0].shape, teset[0].shape)\n",
    "f.close()"
   ]
  },
  {
   "cell_type": "code",
   "execution_count": 3,
   "metadata": {},
   "outputs": [
    {
     "data": {
      "image/png": "[encoded data removed]",
      "text/plain": [
       "<Figure size 432x288 with 10 Axes>"
      ]
     },
     "metadata": {
      "needs_background": "light"
     },
     "output_type": "display_data"
    }
   ],
   "source": [
    "import matplotlib.pyplot as plt # To install: pip install matplotlib\n",
    "\n",
    "# visualise some examples from the dataset \n",
    "fig, ax = plt.subplots(2,5)\n",
    "for i, ax in enumerate(ax.flatten()):\n",
    "    im_idx = np.argwhere(teset[1] == i)[0]\n",
    "    plottable_image = np.reshape(teset[0][im_idx], (28, 28))\n",
    "    ax.imshow(plottable_image, cmap='gray_r')"
   ]
  },
  {
   "cell_type": "code",
   "execution_count": 4,
   "metadata": {},
   "outputs": [],
   "source": [
    "# we will use only 9000 images for training and 1000 for testing \n",
    "\n",
    "# Just use the first 9000 images for training \n",
    "tread = 9000\n",
    "train_in = tset[0][:tread,:]\n",
    "\n",
    "# This is a little bit of work -- 1 of N encoding\n",
    "# Make sure you understand how it does it\n",
    "train_tgt = np.zeros((tread,10))\n",
    "for i in range(tread):\n",
    "    train_tgt[i,tset[1][i]] = 1\n",
    "\n",
    "# and use 1000 images for testing\n",
    "teread = 1000\n",
    "test_in = teset[0][:teread,:]\n",
    "test_tgt = np.zeros((teread,10))\n",
    "for i in range(teread):\n",
    "    test_tgt[i,teset[1][i]] = 1"
   ]
  },
  {
   "cell_type": "markdown",
   "metadata": {},
   "source": [
    "#### Initialise the MLP classifier "
   ]
  },
  {
   "cell_type": "code",
   "execution_count": 5,
   "metadata": {},
   "outputs": [],
   "source": [
    "# We choose the first and second hidden layers to have 5 neurons each.\n",
    "sizes = [784,8,8,10] # 784 is the number of pixels of the images and 10 is the number of classes \n",
    "classifier = MLP(sizes)"
   ]
  },
  {
   "cell_type": "code",
   "execution_count": 6,
   "metadata": {},
   "outputs": [
    {
     "name": "stdout",
     "output_type": "stream",
     "text": [
      "Iteration:  0  Error:  4139.369837519679\n",
      "Iteration:  100  Error:  1940.1869026862912\n",
      "Iteration:  200  Error:  1216.757355295449\n",
      "Iteration:  300  Error:  1039.2875266191793\n",
      "Iteration:  400  Error:  1049.3688407120344\n",
      "Iteration:  500  Error:  839.4876410657644\n",
      "Iteration:  600  Error:  792.459116521187\n",
      "Iteration:  700  Error:  810.3725803289101\n",
      "Iteration:  800  Error:  766.6840441052891\n",
      "Iteration:  900  Error:  888.8776231280926\n",
      "Iteration:  1000  Error:  751.8481184241531\n",
      "Iteration:  1100  Error:  754.8413426604218\n",
      "Iteration:  1200  Error:  697.5427239503542\n",
      "Iteration:  1300  Error:  669.9028023931586\n",
      "Iteration:  1400  Error:  692.0862059202237\n",
      "Iteration:  1500  Error:  657.8294384217485\n",
      "Iteration:  1600  Error:  649.7747000826445\n",
      "Iteration:  1700  Error:  707.1404742740268\n",
      "Iteration:  1800  Error:  626.9387972351097\n",
      "Iteration:  1900  Error:  650.0320759077929\n",
      "Iteration:  2000  Error:  611.1370754067241\n",
      "Iteration:  2100  Error:  747.3346160860187\n",
      "Iteration:  2200  Error:  639.6116823322161\n",
      "Iteration:  2300  Error:  584.3853788614568\n",
      "Iteration:  2400  Error:  603.8938693730414\n",
      "Iteration:  2500  Error:  597.892767129003\n",
      "Iteration:  2600  Error:  584.601688014563\n",
      "Iteration:  2700  Error:  635.4553819338498\n",
      "Iteration:  2800  Error:  567.163805982889\n",
      "Iteration:  2900  Error:  566.7310252942077\n"
     ]
    }
   ],
   "source": [
    "# TODO: open the mlp.py file and implement self.forwardPass and self.train methods\n",
    "# test your implementation here \n",
    "# for now, let's keep the learning rate and the number of iterations unchanged  \n",
    "classifier.train(train_in, train_tgt, 1.0, 3000)"
   ]
  },
  {
   "cell_type": "code",
   "execution_count": 7,
   "metadata": {},
   "outputs": [
    {
     "name": "stdout",
     "output_type": "stream",
     "text": [
      "The confusion matrix is:\n",
      "[[ 74.   0.   0.   0.   1.   0.   4.   0.   0.   0.]\n",
      " [  0. 115.   1.   0.   0.   0.   1.   2.   0.   1.]\n",
      " [  4.   3.  89.   5.   0.   1.   1.   2.   2.   0.]\n",
      " [  1.   1.   5.  84.   0.   7.   0.   1.   1.   1.]\n",
      " [  0.   0.   1.   3.  84.   1.   0.   2.   4.  11.]\n",
      " [  0.   0.   0.   7.   1.  67.   2.   1.  11.   4.]\n",
      " [  6.   0.   5.   0.  11.   1.  77.   0.   7.   0.]\n",
      " [  0.   3.   6.   5.   0.   2.   1.  85.   2.   5.]\n",
      " [  0.   4.   9.   2.   0.   6.   1.   0.  62.   0.]\n",
      " [  0.   0.   0.   1.  13.   2.   0.   6.   0.  72.]]\n",
      "The accuracy is  80.9\n"
     ]
    }
   ],
   "source": [
    "# we evaluate our model on the testing set \n",
    "# and show the confusion matrix and the accuracy\n",
    "classifier.evaluate(test_in, test_tgt)"
   ]
  },
  {
   "cell_type": "code",
   "execution_count": 8,
   "metadata": {},
   "outputs": [],
   "source": [
    "# you should expect the accuracy to be really low ~ most likely less than %50\n",
    "# I think we can do better by experimenting with different learning rate and \n",
    "# number of neurons in each hidden layer. "
   ]
  },
  {
   "cell_type": "code",
   "execution_count": 9,
   "metadata": {},
   "outputs": [],
   "source": [
    "# TODO: modify the network parameters to get the test accuracy above %90 \n",
    "# you can change the learning rate, the number of neurons of each hidden layer\n",
    "# and number of iterations. You can also implement the gradient descent algorithm\n",
    "# with momentum and experiment it with different momentum values. "
   ]
  },
  {
   "cell_type": "code",
   "execution_count": 10,
   "metadata": {},
   "outputs": [
    {
     "name": "stdout",
     "output_type": "stream",
     "text": [
      "Iteration:  0  Error:  4118.364357758497\n",
      "Iteration:  100  Error:  2450.0383423715994\n",
      "Iteration:  200  Error:  1780.4203800871655\n",
      "Iteration:  300  Error:  1617.66770507558\n",
      "Iteration:  400  Error:  1531.821640069549\n",
      "Iteration:  500  Error:  1479.1005046512578\n",
      "Iteration:  600  Error:  1381.8634584894237\n",
      "Iteration:  700  Error:  1306.0128102767787\n",
      "Iteration:  800  Error:  1037.5454217452318\n",
      "Iteration:  900  Error:  982.8857218521653\n",
      "Iteration:  1000  Error:  965.9901347479508\n",
      "Iteration:  1100  Error:  906.2563955286246\n",
      "Iteration:  1200  Error:  853.2153444088219\n",
      "Iteration:  1300  Error:  852.4921063832935\n",
      "Iteration:  1400  Error:  829.6089060273365\n",
      "Iteration:  1500  Error:  812.5389354891296\n",
      "Iteration:  1600  Error:  809.5227705829101\n",
      "Iteration:  1700  Error:  846.4460519562641\n",
      "Iteration:  1800  Error:  807.5423601436984\n",
      "Iteration:  1900  Error:  813.8539113668878\n",
      "Iteration:  2000  Error:  814.5497205690423\n",
      "Iteration:  2100  Error:  800.9059372326626\n",
      "Iteration:  2200  Error:  801.7075988252818\n",
      "Iteration:  2300  Error:  800.8783139264278\n",
      "Iteration:  2400  Error:  800.2794496528986\n",
      "Iteration:  2500  Error:  797.2391516937032\n",
      "Iteration:  2600  Error:  800.3077142879574\n",
      "Iteration:  2700  Error:  799.1483701493103\n",
      "Iteration:  2800  Error:  796.2946251539206\n",
      "Iteration:  2900  Error:  806.413305341578\n",
      "The confusion matrix is:\n",
      "[[ 76.   0.   6.   2.   0.   2.   6.   0.   0.   0.]\n",
      " [  0. 120.   0.   0.   0.   0.   0.   4.   2.   0.]\n",
      " [  1.   0.   0.   1.   0.   0.   0.   0.   0.   0.]\n",
      " [  2.   1.  98.  83.   0.   3.   0.   3.   7.   2.]\n",
      " [  0.   0.   0.   0. 100.   2.   1.   1.   2.   2.]\n",
      " [  1.   2.   2.  13.   1.  61.   8.   0.   7.   0.]\n",
      " [  5.   0.   1.   2.   4.   2.  72.   0.   0.   0.]\n",
      " [  0.   3.   2.   2.   0.   3.   0.  87.   2.   7.]\n",
      " [  0.   0.   7.   3.   0.  12.   0.   1.  67.   5.]\n",
      " [  0.   0.   0.   1.   5.   2.   0.   3.   2.  78.]]\n",
      "The accuracy is  74.4\n"
     ]
    }
   ],
   "source": [
    "best_sizes = [784,8,8,10]\n",
    "best_beta = 20\n",
    "best_momentum = 0.7\n",
    "best_lr = 1.0 # best learning rate\n",
    "best_niterations = 3000\n",
    "best_classifier = MLP(sizes = best_sizes, beta=best_beta, momentum=best_momentum)\n",
    "best_classifier.train(train_in, train_tgt, best_lr, best_niterations)\n",
    "best_classifier.evaluate(test_in, test_tgt)"
   ]
  },
  {
   "cell_type": "code",
   "execution_count": 11,
   "metadata": {},
   "outputs": [],
   "source": [
    "# TODO: run the following code to save the best parameters and \n",
    "# the weights of the network that achieves the desired accuracy\n",
    "best_parameters = {\n",
    "    'sizes': best_sizes,\n",
    "    'beta': best_beta,\n",
    "    'momentum': best_momentum,\n",
    "    'lr': best_lr,\n",
    "    'niterations': best_niterations,\n",
    "    'weights_1': best_classifier.weights1,\n",
    "    'weights_2': best_classifier.weights2,\n",
    "    'weights_3': best_classifier.weights3,\n",
    "}\n",
    "\n",
    "with open('best_classifier.pkl', 'wb') as handle:\n",
    "    pickle.dump(best_parameters, handle, protocol=pickle.HIGHEST_PROTOCOL)"
   ]
  },
  {
   "cell_type": "code",
   "execution_count": null,
   "metadata": {},
   "outputs": [],
   "source": []
  }
 ],
 "metadata": {
  "kernelspec": {
   "display_name": "Python 3",
   "language": "python",
   "name": "python3"
  },
  "language_info": {
   "codemirror_mode": {
    "name": "ipython",
    "version": 3
   },
   "file_extension": ".py",
   "mimetype": "text/x-python",
   "name": "python",
   "nbconvert_exporter": "python",
   "pygments_lexer": "ipython3",
   "version": "3.8.3"
  }
 },
 "nbformat": 4,
 "nbformat_minor": 4
}
